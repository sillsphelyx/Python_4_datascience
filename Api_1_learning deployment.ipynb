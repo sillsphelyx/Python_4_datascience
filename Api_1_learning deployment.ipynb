{
 "cells": [
  {
   "cell_type": "code",
   "execution_count": 10,
   "metadata": {
    "collapsed": true
   },
   "outputs": [],
   "source": [
    "# Basic dependancies for a flask web app and API building\n",
    "from flask import Flask, request, jsonify, url_for, render_template"
   ]
  },
  {
   "cell_type": "code",
   "execution_count": 8,
   "metadata": {
    "collapsed": false
   },
   "outputs": [
    {
     "name": "stdout",
     "output_type": "stream",
     "text": [
      " * Serving Flask app \"__main__\" (lazy loading)\n",
      " * Environment: production\n",
      "   WARNING: This is a development server. Do not use it in a production deployment.\n",
      "   Use a production WSGI server instead.\n",
      " * Debug mode: on\n"
     ]
    },
    {
     "name": "stderr",
     "output_type": "stream",
     "text": [
      " * Running on http://127.0.0.1:5000/ (Press CTRL+C to quit)\n",
      "127.0.0.1 - - [01/Dec/2019 01:38:03] \"\u001b[37mGET / HTTP/1.1\u001b[0m\" 200 -\n"
     ]
    }
   ],
   "source": [
    "# Basic route. The basic unit of a flask web application\n",
    "app0 = Flask(__name__)\n",
    "\n",
    "@app0.route(\"/\")\n",
    "def hello():\n",
    "    return \"Hello World\"\n",
    "if __name__ == '__main__':\n",
    "    app0.run(debug=True, use_reloader=False)"
   ]
  },
  {
   "cell_type": "code",
   "execution_count": 12,
   "metadata": {
    "collapsed": false
   },
   "outputs": [
    {
     "name": "stdout",
     "output_type": "stream",
     "text": [
      " * Serving Flask app \"__main__\" (lazy loading)\n",
      " * Environment: production\n",
      "   WARNING: This is a development server. Do not use it in a production deployment.\n",
      "   Use a production WSGI server instead.\n",
      " * Debug mode: on\n"
     ]
    },
    {
     "name": "stderr",
     "output_type": "stream",
     "text": [
      " * Running on http://127.0.0.1:5000/ (Press CTRL+C to quit)\n",
      "127.0.0.1 - - [01/Dec/2019 04:48:01] \"\u001b[37mGET / HTTP/1.1\u001b[0m\" 200 -\n",
      "127.0.0.1 - - [01/Dec/2019 04:48:01] \"\u001b[33mGET /css/styling.css HTTP/1.1\u001b[0m\" 404 -\n"
     ]
    }
   ],
   "source": [
    "app01 = Flask(__name__)\n",
    "\n",
    "@app01.route(\"/\")\n",
    "def hello_ren():\n",
    "    return render_template('index_c.html')\n",
    "if __name__ == '__main__':\n",
    "    app01.run(debug=True, use_reloader=False)"
   ]
  },
  {
   "cell_type": "code",
   "execution_count": 5,
   "metadata": {
    "collapsed": false
   },
   "outputs": [
    {
     "name": "stdout",
     "output_type": "stream",
     "text": [
      " * Serving Flask app \"__main__\" (lazy loading)\n",
      " * Environment: production\n",
      "   WARNING: This is a development server. Do not use it in a production deployment.\n",
      "   Use a production WSGI server instead.\n",
      " * Debug mode: on\n"
     ]
    },
    {
     "name": "stderr",
     "output_type": "stream",
     "text": [
      " * Running on http://127.0.0.1:5000/ (Press CTRL+C to quit)\n",
      "127.0.0.1 - - [01/Dec/2019 01:18:43] \"\u001b[37mPOST /api HTTP/1.1\u001b[0m\" 200 -\n"
     ]
    }
   ],
   "source": [
    "# Basic unit of an API\n",
    "app1 = Flask(__name__)\n",
    "@app1.route('/api', methods=['POST'])\n",
    "def pm_prediction1():\n",
    "    content = request.json\n",
    "    Pm = content['profit']/content['revenue']\n",
    "    return jsonify(Pm)\n",
    "\n",
    "if __name__ == '__main__':\n",
    "    app1.run(debug=True, use_reloader=False)"
   ]
  },
  {
   "cell_type": "code",
   "execution_count": 23,
   "metadata": {
    "collapsed": false
   },
   "outputs": [
    {
     "name": "stdout",
     "output_type": "stream",
     "text": [
      " * Serving Flask app \"__main__\" (lazy loading)\n",
      " * Environment: production\n",
      "   WARNING: This is a development server. Do not use it in a production deployment.\n",
      "   Use a production WSGI server instead.\n",
      " * Debug mode: on\n"
     ]
    },
    {
     "name": "stderr",
     "output_type": "stream",
     "text": [
      " * Running on http://127.0.0.1:5000/ (Press CTRL+C to quit)\n",
      "127.0.0.1 - - [01/Dec/2019 05:42:27] \"\u001b[37mGET / HTTP/1.1\u001b[0m\" 200 -\n",
      "127.0.0.1 - - [01/Dec/2019 05:42:27] \"\u001b[33mGET /css/styling.css HTTP/1.1\u001b[0m\" 404 -\n",
      "127.0.0.1 - - [01/Dec/2019 05:42:44] \"\u001b[37mPOST /api HTTP/1.1\u001b[0m\" 200 -\n",
      "127.0.0.1 - - [01/Dec/2019 05:42:44] \"\u001b[33mGET /css/styling.css HTTP/1.1\u001b[0m\" 404 -\n"
     ]
    }
   ],
   "source": [
    "# Basic Unit of the combined Web page and api\n",
    "# Basic unit of an API\n",
    "app2 = Flask(__name__)\n",
    "@app2.route('/')\n",
    "def index():\n",
    "    return render_template('index_c.html')\n",
    "\n",
    "@app2.route('/api', methods=['POST'])\n",
    "def pm_prediction1():\n",
    "    pat = float(request.form['Profit_After_Tax']) # Obtaining data from a form \n",
    "    rvn = float(request.form['Revenue'])\n",
    "    pm = pat/rvn\n",
    "    return render_template('index_c.html', prediction = 'Your profit margin is R {}'.format(pm))\n",
    "\n",
    "if __name__ == '__main__':\n",
    "    app2.run(debug=True, use_reloader=False)"
   ]
  },
  {
   "cell_type": "code",
   "execution_count": null,
   "metadata": {
    "collapsed": true
   },
   "outputs": [],
   "source": []
  }
 ],
 "metadata": {
  "kernelspec": {
   "display_name": "py3tst",
   "language": "python",
   "name": "py3tst"
  },
  "language_info": {
   "codemirror_mode": {
    "name": "ipython",
    "version": 3
   },
   "file_extension": ".py",
   "mimetype": "text/x-python",
   "name": "python",
   "nbconvert_exporter": "python",
   "pygments_lexer": "ipython3",
   "version": "3.6.8"
  }
 },
 "nbformat": 4,
 "nbformat_minor": 2
}
