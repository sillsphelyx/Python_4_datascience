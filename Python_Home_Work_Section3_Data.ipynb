{
 "cells": [
  {
   "cell_type": "code",
   "execution_count": 4,
   "metadata": {
    "collapsed": true
   },
   "outputs": [],
   "source": [
    "import numpy as np"
   ]
  },
  {
   "cell_type": "code",
   "execution_count": 1,
   "metadata": {
    "collapsed": true
   },
   "outputs": [],
   "source": [
    "#Data \n",
    "revenue = [14574.49, 7606.46, 8611.41, 9175.41, 8058.65, 8105.44, 11496.28, 9766.09, 10305.32, 14379.96, 10713.97, 15433.50]\n",
    "expenses = [12051.82, 5695.07, 12319.20, 12089.72, 8658.57, 840.20, 3285.73, 5821.12, 6976.93, 16618.61, 10054.37, 3803.96]"
   ]
  },
  {
   "cell_type": "code",
   "execution_count": 9,
   "metadata": {
    "collapsed": false
   },
   "outputs": [
    {
     "data": {
      "text/plain": [
       "array([ 2522.67,  1911.39, -3707.79, -2914.31,  -599.92,  7265.24,\n",
       "        8210.55,  3944.97,  3328.39, -2238.65,   659.6 , 11629.54])"
      ]
     },
     "execution_count": 9,
     "metadata": {},
     "output_type": "execute_result"
    }
   ],
   "source": [
    "Profit = np.array(revenue) - np.array(expenses)\n",
    "Profit"
   ]
  },
  {
   "cell_type": "markdown",
   "metadata": {},
   "source": [
    "# Profit"
   ]
  },
  {
   "cell_type": "code",
   "execution_count": 6,
   "metadata": {
    "collapsed": false
   },
   "outputs": [],
   "source": [
    "def month_profit(rev,exp):\n",
    "    l = []\n",
    "    for i in range(len(rev)):\n",
    "        l.append(rev[i]-exp[i])\n",
    "    return(l)       \n",
    "    "
   ]
  },
  {
   "cell_type": "code",
   "execution_count": 8,
   "metadata": {
    "collapsed": false
   },
   "outputs": [],
   "source": [
    "profit = month_profit(revenue,expenses)"
   ]
  },
  {
   "cell_type": "code",
   "execution_count": 15,
   "metadata": {
    "collapsed": false
   },
   "outputs": [],
   "source": [
    "#print(profit)"
   ]
  },
  {
   "cell_type": "markdown",
   "metadata": {},
   "source": [
    "# Profit after tax"
   ]
  },
  {
   "cell_type": "code",
   "execution_count": 11,
   "metadata": {
    "collapsed": true
   },
   "outputs": [],
   "source": [
    "def Prof_aft_tax(prof, rate):\n",
    "    pat = []\n",
    "    for i in range(len(prof)):\n",
    "        pat.append(prof[i]-(prof[i]*rate))\n",
    "    return(pat)"
   ]
  },
  {
   "cell_type": "code",
   "execution_count": 12,
   "metadata": {
    "collapsed": true
   },
   "outputs": [],
   "source": [
    "profit_aft_tax = Prof_aft_tax(profit, 0.3)"
   ]
  },
  {
   "cell_type": "code",
   "execution_count": 14,
   "metadata": {
    "collapsed": false
   },
   "outputs": [],
   "source": [
    "#print(profit_aft_tax)"
   ]
  },
  {
   "cell_type": "markdown",
   "metadata": {},
   "source": [
    "# Profit margin"
   ]
  },
  {
   "cell_type": "code",
   "execution_count": 16,
   "metadata": {
    "collapsed": true
   },
   "outputs": [],
   "source": [
    "def prof_m(pat,rev):\n",
    "    pm = []\n",
    "    for i in range(len(pat)):\n",
    "        pm.append(pat[i]/rev[i])\n",
    "    return(pm)"
   ]
  },
  {
   "cell_type": "code",
   "execution_count": 17,
   "metadata": {
    "collapsed": true
   },
   "outputs": [],
   "source": [
    "profit_margin = prof_m(profit_aft_tax,revenue)"
   ]
  },
  {
   "cell_type": "code",
   "execution_count": 20,
   "metadata": {
    "collapsed": false
   },
   "outputs": [],
   "source": [
    "#print(profit_margin)"
   ]
  },
  {
   "cell_type": "markdown",
   "metadata": {},
   "source": [
    "# Good months"
   ]
  },
  {
   "cell_type": "code",
   "execution_count": 23,
   "metadata": {
    "collapsed": false
   },
   "outputs": [
    {
     "name": "stdout",
     "output_type": "stream",
     "text": [
      "[[1765.8690000000001, 0], [5085.668, 5], [5747.385, 6], [2761.4790000000003, 7], [2329.8729999999996, 8], [8140.678000000001, 11]]\n"
     ]
    }
   ],
   "source": [
    "# profit after tax greater than annual mean profit after tax\n",
    "profit_aft_tax = np.array(profit_aft_tax)\n",
    "gms = []\n",
    "for i in range(len(profit_aft_tax)):\n",
    "    if profit_aft_tax[i] > np.mean(profit_aft_tax):\n",
    "        gms.append([profit_aft_tax[i],i])\n",
    "print(gms)"
   ]
  },
  {
   "cell_type": "markdown",
   "metadata": {},
   "source": [
    "# Bad months"
   ]
  },
  {
   "cell_type": "code",
   "execution_count": 28,
   "metadata": {
    "collapsed": false
   },
   "outputs": [
    {
     "name": "stdout",
     "output_type": "stream",
     "text": [
      "[[1337.9730000000004, 1], [-2595.4530000000004, 2], [-2040.0169999999998, 3], [-419.9440000000001, 4], [-1567.0550000000012, 9], [461.719999999999, 10]]\n"
     ]
    }
   ],
   "source": [
    "# profit after tax less than annual mean profit after tax\n",
    "#profit_aft_tax = np.array(profit_aft_tax)\n",
    "bms = []\n",
    "for i in range(len(profit_aft_tax)):\n",
    "    if profit_aft_tax[i] < np.mean(profit_aft_tax):\n",
    "        bms.append([profit_aft_tax[i],i])\n",
    "print(bms)"
   ]
  },
  {
   "cell_type": "markdown",
   "metadata": {},
   "source": [
    "# Best month"
   ]
  },
  {
   "cell_type": "code",
   "execution_count": 29,
   "metadata": {
    "collapsed": false
   },
   "outputs": [
    {
     "name": "stdout",
     "output_type": "stream",
     "text": [
      "[[8140.678000000001, 11]]\n"
     ]
    }
   ],
   "source": [
    "# Maximum profit after tax\n",
    "bm = []\n",
    "for i in range(len(profit_aft_tax)):\n",
    "    if profit_aft_tax[i] == max(profit_aft_tax):\n",
    "        bm.append([profit_aft_tax[i],i])\n",
    "print(bm)"
   ]
  },
  {
   "cell_type": "markdown",
   "metadata": {},
   "source": [
    "# Worst month"
   ]
  },
  {
   "cell_type": "code",
   "execution_count": 30,
   "metadata": {
    "collapsed": false
   },
   "outputs": [
    {
     "name": "stdout",
     "output_type": "stream",
     "text": [
      "[[-2595.4530000000004, 2]]\n"
     ]
    }
   ],
   "source": [
    "#minimum profit after tax\n",
    "wm = []\n",
    "for i in range(len(profit_aft_tax)):\n",
    "    if profit_aft_tax[i] == min(profit_aft_tax):\n",
    "        wm.append([profit_aft_tax[i],i])\n",
    "print(wm)"
   ]
  },
  {
   "cell_type": "code",
   "execution_count": null,
   "metadata": {
    "collapsed": true
   },
   "outputs": [],
   "source": []
  }
 ],
 "metadata": {
  "kernelspec": {
   "display_name": "py3tst",
   "language": "python",
   "name": "py3tst"
  },
  "language_info": {
   "codemirror_mode": {
    "name": "ipython",
    "version": 3
   },
   "file_extension": ".py",
   "mimetype": "text/x-python",
   "name": "python",
   "nbconvert_exporter": "python",
   "pygments_lexer": "ipython3",
   "version": "3.6.8"
  }
 },
 "nbformat": 4,
 "nbformat_minor": 1
}
